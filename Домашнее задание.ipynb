{
 "cells": [
  {
   "cell_type": "markdown",
   "id": "df4782ee-e068-43e0-b833-6e0765c24bc5",
   "metadata": {},
   "source": [
    "# Домашняя работа по Программированию на Python"
   ]
  },
  {
   "cell_type": "markdown",
   "id": "efbb8cf5-b108-4929-af5b-b22cafcf306d",
   "metadata": {},
   "source": [
    "## Задание №1"
   ]
  },
  {
   "cell_type": "code",
   "execution_count": 1,
   "id": "59ecee93-4afe-4776-8c68-0fad496b3211",
   "metadata": {},
   "outputs": [
    {
     "name": "stdin",
     "output_type": "stream",
     "text": [
      "Напишите год 2024\n"
     ]
    },
    {
     "name": "stdout",
     "output_type": "stream",
     "text": [
      "Високосный год\n"
     ]
    }
   ],
   "source": [
    "year = int(input(\"Напишите год\"))\n",
    "if (year % 4 == 0 and year % 100 != 0) or (year % 400 == 0):\n",
    "    print(\"Високосный год\")\n",
    "else:\n",
    "    print(\"Обычный год\")"
   ]
  },
  {
   "cell_type": "markdown",
   "id": "c2214f4e-2271-4f67-bca7-81e3862c35bb",
   "metadata": {},
   "source": [
    "## Задание №2"
   ]
  },
  {
   "cell_type": "code",
   "execution_count": null,
   "id": "0be46fb2-1903-4937-91fe-65bc0f7ff99c",
   "metadata": {},
   "outputs": [],
   "source": [
    "ticket = input(\"Напишите номер билета\")\n",
    "if int(ticket[0]) + int(ticket[1]) + int(ticket[2]) == int(ticket[3]) + int(ticket[4]) + int(ticket[5]):\n",
    " print(\"Счастливый билет\")\n",
    "else:\n",
    " print(\"Несчастливый билет\")"
   ]
  },
  {
   "cell_type": "code",
   "execution_count": null,
   "id": "b040e503-3217-4b36-86f1-db59286fba36",
   "metadata": {},
   "outputs": [],
   "source": []
  }
 ],
 "metadata": {
  "kernelspec": {
   "display_name": "Python [conda env:base] *",
   "language": "python",
   "name": "conda-base-py"
  },
  "language_info": {
   "codemirror_mode": {
    "name": "ipython",
    "version": 3
   },
   "file_extension": ".py",
   "mimetype": "text/x-python",
   "name": "python",
   "nbconvert_exporter": "python",
   "pygments_lexer": "ipython3",
   "version": "3.13.5"
  }
 },
 "nbformat": 4,
 "nbformat_minor": 5
}
